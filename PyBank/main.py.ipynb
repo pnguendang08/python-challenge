{
 "cells": [
  {
   "cell_type": "code",
   "execution_count": 3,
   "metadata": {},
   "outputs": [
    {
     "name": "stdout",
     "output_type": "stream",
     "text": [
      "['Date', 'Profit/Losses']\n",
      "Financial Analysis\n",
      "-----------------------------------------------------\n",
      "Total months: 86\n",
      "Total : $38382578\n",
      "Average change in profit/loss : $-2315.12\n",
      "greatest increase in profits : Feb-2012, ($1926159)\n",
      "greatest decrease in profits : Sep-2013, ($-2196167)\n"
     ]
    }
   ],
   "source": [
    "import csv\n",
    "import os\n",
    "from statistics import mean\n",
    "# Store the csv file path into a variable 'csvpath'\n",
    "# http://localhost:8888/edit/Desktop/python-challenge/Resourses/budget_data.csv\n",
    "#csvpath = os.path.join('..','Resources','budget_data.csv')\n",
    "csvpath = os.path.join(\"../Resourses/budget_data.csv\")\n",
    "# Open the file path and store the file into budget_file\n",
    "\n",
    "with open(csvpath, newline =\"\") as budget_file:\n",
    "    # csv reader specifies delimiter, read the budget_file and \n",
    "    # store contents in a variable 'budget_data' for future operations\n",
    "    budget_data = csv.reader(budget_file, delimiter = \",\")\n",
    "    # read first the header row of budget_data and store \n",
    "    #it in \"budget_header\" as a list\n",
    "    budget_header = next(budget_data)\n",
    "    print(budget_header)\n",
    "    # read each row after the header for operations\n",
    "# create lists 'dates' that stores the date and 'net_profit' that stores profit/loss\n",
    "    dates =[]\n",
    "    net_profit =[]\n",
    "    aggregate = 0\n",
    "    for row in  budget_data:\n",
    "        dates.append(row[0])\n",
    "        net_profit.append(row[1])\n",
    "    # conpute the total amount of profit/loss during the entire period\n",
    "        aggregate += float(row[1])\n",
    "# compute the total number of months included in the dataset\n",
    "total_months = len(dates)\n",
    "# Use enumerate to find a list of change in net profit/loss their max and min\n",
    "change_pl = [float(net_profit[i+1])-float(value) for i,value in enumerate(net_profit[:-1])]\n",
    "# Compute average of the changes in \"Profit/Losses\" over the entire period and store in \"average_ch\"\n",
    "average_ch = round(mean(change_pl),2)\n",
    "# Compute greatest increase in profits (date and amount) over the entire period\n",
    "great_incr = round(max(change_pl))\n",
    "max_index = change_pl.index(great_incr)\n",
    "date_greatest_incr = dates[max_index +1]\n",
    "# Compute greatest decrease in losses (date and amount) over the entire period\n",
    "great_decr = round(min(change_pl))\n",
    "min_index = change_pl.index(great_decr)\n",
    "date_greatest_decr = dates[min_index +1]\n",
    "# Reporting\n",
    "print(\"Financial Analysis\")\n",
    "print(\"-----------------------------------------------------\")\n",
    "print(f\"Total months: {total_months}\")\n",
    "print(f\"Total : ${round(aggregate)}\")\n",
    "print(f\"Average change in profit/loss : ${average_ch}\")\n",
    "print(f\"greatest increase in profits : {date_greatest_incr}, (${great_incr})\")\n",
    "print(f\"greatest decrease in profits : {date_greatest_decr}, (${great_decr})\")\n"
   ]
  },
  {
   "cell_type": "code",
   "execution_count": 4,
   "metadata": {},
   "outputs": [
    {
     "data": {
      "text/plain": [
       "255"
      ]
     },
     "execution_count": 4,
     "metadata": {},
     "output_type": "execute_result"
    }
   ],
   "source": [
    "# Write to text file\n",
    "output_path= os.path.join(\"../output/financial_results.txt\")\n",
    "# Open the output file\n",
    "f=open(output_path, \"w\")\n",
    "# Export the text file with the results\n",
    "f.write(\"\"\"Financial Analysis \n",
    "-----------------------------------------------------\n",
    "Total months: 86\n",
    "Total : $38382578\n",
    "Average change in profit/loss : $-2315.12\n",
    "greatest increase in profits : Feb-2012, ($1926159)\n",
    "greatest decrease in profits : Sep-2013, ($-2196167)\"\"\")\n",
    "    \n",
    "         \n",
    "        "
   ]
  },
  {
   "cell_type": "code",
   "execution_count": null,
   "metadata": {},
   "outputs": [],
   "source": []
  }
 ],
 "metadata": {
  "kernelspec": {
   "display_name": "Python 3",
   "language": "python",
   "name": "python3"
  },
  "language_info": {
   "codemirror_mode": {
    "name": "ipython",
    "version": 3
   },
   "file_extension": ".py",
   "mimetype": "text/x-python",
   "name": "python",
   "nbconvert_exporter": "python",
   "pygments_lexer": "ipython3",
   "version": "3.7.6"
  }
 },
 "nbformat": 4,
 "nbformat_minor": 2
}
